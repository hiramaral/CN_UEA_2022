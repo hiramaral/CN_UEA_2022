{
  "nbformat": 4,
  "nbformat_minor": 0,
  "metadata": {
    "colab": {
      "name": "exer01.ipynb",
      "provenance": [],
      "collapsed_sections": [],
      "authorship_tag": "ABX9TyMAAXfkgOtP2RTvmCzr2q9S",
      "include_colab_link": true
    },
    "kernelspec": {
      "name": "python3",
      "display_name": "Python 3"
    },
    "language_info": {
      "name": "python"
    }
  },
  "cells": [
    {
      "cell_type": "markdown",
      "metadata": {
        "id": "view-in-github",
        "colab_type": "text"
      },
      "source": [
        "<a href=\"https://colab.research.google.com/github/hiramaral/CN_UEA_2022/blob/main/exer01.ipynb\" target=\"_parent\"><img src=\"https://colab.research.google.com/assets/colab-badge.svg\" alt=\"Open In Colab\"/></a>"
      ]
    },
    {
      "cell_type": "markdown",
      "source": [
        "## Altere o texto e exercite."
      ],
      "metadata": {
        "id": "ZSGczN98FnTq"
      }
    },
    {
      "cell_type": "code",
      "execution_count": 2,
      "metadata": {
        "id": "DzRrkEAKFiST",
        "colab": {
          "base_uri": "https://localhost:8080/"
        },
        "outputId": "b6ff615d-70dc-4b31-fe13-b78ef1417c25"
      },
      "outputs": [
        {
          "output_type": "stream",
          "name": "stdout",
          "text": [
            "Olá UEA e CETAM!\n",
            "Precisamos que você façam seus códigos\n"
          ]
        }
      ],
      "source": [
        "msg = 'Olá UEA e CETAM!'\n",
        "print(msg)\n",
        "print(\"Precisamos que você façam seus códigos\")"
      ]
    }
  ]
}