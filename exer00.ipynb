{
  "nbformat": 4,
  "nbformat_minor": 0,
  "metadata": {
    "colab": {
      "name": "exer00.ipynb",
      "provenance": [],
      "collapsed_sections": [],
      "authorship_tag": "ABX9TyM3XpBAQ/qk/Tk7yNKFt10C",
      "include_colab_link": true
    },
    "kernelspec": {
      "name": "python3",
      "display_name": "Python 3"
    },
    "language_info": {
      "name": "python"
    }
  },
  "cells": [
    {
      "cell_type": "markdown",
      "metadata": {
        "id": "view-in-github",
        "colab_type": "text"
      },
      "source": [
        "<a href=\"https://colab.research.google.com/github/hiramaral/CN_UEA_2022/blob/main/exer00.ipynb\" target=\"_parent\"><img src=\"https://colab.research.google.com/assets/colab-badge.svg\" alt=\"Open In Colab\"/></a>"
      ]
    },
    {
      "cell_type": "code",
      "execution_count": null,
      "metadata": {
        "colab": {
          "base_uri": "https://localhost:8080/"
        },
        "id": "jnIeLIacCXjf",
        "outputId": "d514f8ad-2730-4212-afdb-273d5e60b3a1"
      },
      "outputs": [
        {
          "output_type": "stream",
          "name": "stdout",
          "text": [
            "Olá mundo do CETAM\n",
            "33\n",
            "711\n",
            "Olá 10\n",
            "Olá Turma, me chamo Hiram Amaral\n",
            "Hiram Amaral\n",
            "Hiram Amaral 50 70.0\n",
            "qual o seu nome:hir\n",
            "Quantos anos você tem?59\n",
            "Qual o seu pêso?70\n",
            "Muito agradecido por suas informações.\n"
          ]
        }
      ],
      "source": [
        "#Aula01 Python Básico\n",
        "#Prof. Hiram Amaral\n",
        "\n",
        "print(\"Olá mundo do UEA/CETAM\")\n",
        "print(21+12)\n",
        "print('7'+\"11\")\n",
        "7+11\n",
        "print('Olá', + 10)\n",
        "print(\"Olá Turma, me chamo Hiram Amaral\")\n",
        "nome = 'Hiram Amaral'\n",
        "idade = 50\n",
        "peso = 70.0\n",
        "print(nome)\n",
        "print(nome, idade, peso)\n",
        "nome = input ('qual o seu nome:')\n",
        "idade = input (\"Quantos anos você tem?\")\n",
        "peso = input('Qual o seu pêso?')\n",
        "print(\"Muito agradecido por suas informações.\")"
      ]
    }
  ]
}