{
  "nbformat": 4,
  "nbformat_minor": 0,
  "metadata": {
    "colab": {
      "name": "Untitled2.ipynb",
      "private_outputs": true,
      "provenance": [],
      "authorship_tag": "ABX9TyMfU93zxubPZleAZP70N2hr",
      "include_colab_link": true
    },
    "kernelspec": {
      "name": "python3",
      "display_name": "Python 3"
    },
    "language_info": {
      "name": "python"
    }
  },
  "cells": [
    {
      "cell_type": "markdown",
      "metadata": {
        "id": "view-in-github",
        "colab_type": "text"
      },
      "source": [
        "<a href=\"https://colab.research.google.com/github/hiramaral/CN_UEA_2022/blob/main/quedalivre.ipynb\" target=\"_parent\"><img src=\"https://colab.research.google.com/assets/colab-badge.svg\" alt=\"Open In Colab\"/></a>"
      ]
    },
    {
      "cell_type": "code",
      "execution_count": null,
      "metadata": {
        "id": "1IfJAm253f4U"
      },
      "outputs": [],
      "source": [
        "import matplotlib.pyplot as plt\n",
        "import numpy as np\n",
        "plt.grid() \n",
        "def f(m):\n",
        "  return 31 - ((9.8*m)/13)*(1 - np.exp(-6.0*(13.0/m)))\n",
        "a=40\n",
        "b=140\n",
        "m=np.arange(a, b, 1)\n",
        "plt.plot(m, f(m))\n",
        "plt.show()\n",
        "\n",
        "  "
      ]
    }
  ]
}