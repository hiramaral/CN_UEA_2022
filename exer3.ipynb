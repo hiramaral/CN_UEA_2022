{
  "nbformat": 4,
  "nbformat_minor": 0,
  "metadata": {
    "colab": {
      "name": "exer3.ipynb",
      "provenance": [],
      "collapsed_sections": [],
      "authorship_tag": "ABX9TyO/sHfjUQPBwFC08nHEBnD2",
      "include_colab_link": true
    },
    "kernelspec": {
      "name": "python3",
      "display_name": "Python 3"
    },
    "language_info": {
      "name": "python"
    }
  },
  "cells": [
    {
      "cell_type": "markdown",
      "metadata": {
        "id": "view-in-github",
        "colab_type": "text"
      },
      "source": [
        "<a href=\"https://colab.research.google.com/github/hiramaral/CN_UEA_2022/blob/main/exer3.ipynb\" target=\"_parent\"><img src=\"https://colab.research.google.com/assets/colab-badge.svg\" alt=\"Open In Colab\"/></a>"
      ]
    },
    {
      "cell_type": "code",
      "execution_count": 1,
      "metadata": {
        "colab": {
          "base_uri": "https://localhost:8080/"
        },
        "id": "4l9XvmoU2ZR4",
        "outputId": "1ffb1dcd-0121-4f47-c723-de860b786f8e"
      },
      "outputs": [
        {
          "output_type": "stream",
          "name": "stdout",
          "text": [
            "digite um número:4\n",
            "digite mais um numero6\n",
            "a soma de numero1 + numero2 é  10\n"
          ]
        }
      ],
      "source": [
        "numero1 = int(input('digite um número:'))\n",
        "numero2 = int(input(\"digite mais um numero\"))\n",
        "soma = (numero2 + numero1)\n",
        "print('a soma de numero1 + numero2 é ', soma)\n"
      ]
    },
    {
      "cell_type": "markdown",
      "source": [
        "## Tipos primitivos:\n",
        "\n",
        "int = inteiro: 7, -4, 0, 9875\n",
        "\n",
        "float = ponto flutuante: 4.5, 0.076, -15.223, 7.0\n",
        "\n",
        "bool = booleano: True, False\n",
        "\n",
        "str = string: 'Olá', \"Olá\", \"7.0\", '1.5'"
      ],
      "metadata": {
        "id": "-aWjHUzP2jR7"
      }
    },
    {
      "cell_type": "code",
      "source": [
        "numero1 = float(input('digite um número:'))\n",
        "numero2 = float(input(\"digite mais um numero\"))\n",
        "soma = (numero2 + numero1)\n",
        "print('a soma de numero1 + numero2 é ', soma)\n"
      ],
      "metadata": {
        "colab": {
          "base_uri": "https://localhost:8080/"
        },
        "id": "nONbb3cr3tEY",
        "outputId": "048e15cc-a950-45c3-eda8-2e9df1c91e39"
      },
      "execution_count": 2,
      "outputs": [
        {
          "output_type": "stream",
          "name": "stdout",
          "text": [
            "digite um número:9.0\n",
            "digite mais um numero10.5\n",
            "a soma de numero1 + numero2 é  19.5\n"
          ]
        }
      ]
    },
    {
      "cell_type": "markdown",
      "source": [
        "## O comndo print"
      ],
      "metadata": {
        "id": "FNyNjq3_377R"
      }
    },
    {
      "cell_type": "code",
      "source": [
        "n1 = float(input('digite um número:'))\n",
        "n2 = float(input(\"digite mais um numero\"))\n",
        "s = (n2 + n1)\n",
        "print(\"A soma vale\", s)\n",
        "print(\"A soma vale\".format (s))"
      ],
      "metadata": {
        "colab": {
          "base_uri": "https://localhost:8080/"
        },
        "id": "3ktEIROE4DOC",
        "outputId": "70b4e3cf-f296-48a9-917e-1155f15e5559"
      },
      "execution_count": 3,
      "outputs": [
        {
          "output_type": "stream",
          "name": "stdout",
          "text": [
            "digite um número:10\n",
            "digite mais um numero18\n",
            "A soma vale 28.0\n",
            "A soma vale\n"
          ]
        }
      ]
    }
  ]
}