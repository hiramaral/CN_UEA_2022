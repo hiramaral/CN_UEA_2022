{
  "nbformat": 4,
  "nbformat_minor": 0,
  "metadata": {
    "colab": {
      "name": "Questao2.ipynb",
      "provenance": [],
      "collapsed_sections": [],
      "include_colab_link": true
    },
    "kernelspec": {
      "name": "python3",
      "display_name": "Python 3"
    },
    "language_info": {
      "name": "python"
    }
  },
  "cells": [
    {
      "cell_type": "markdown",
      "metadata": {
        "id": "view-in-github",
        "colab_type": "text"
      },
      "source": [
        "<a href=\"https://colab.research.google.com/github/hiramaral/CN_UEA_2022/blob/main/Questao2.ipynb\" target=\"_parent\"><img src=\"https://colab.research.google.com/assets/colab-badge.svg\" alt=\"Open In Colab\"/></a>"
      ]
    },
    {
      "cell_type": "code",
      "metadata": {
        "id": "qX1k6uNNAFBB"
      },
      "source": [
        "import math\n",
        "\n",
        "\n",
        "def function(x):\n",
        "    return (9.8*x/13)*(1 - math.e**(-13*6/x)) - 31\n",
        "\n",
        "\n",
        "def bissection(a, b):\n",
        "    if function(a)*function(b) >= 0:\n",
        "        print(\"Intervalo Inválido!\")\n",
        "        return\n",
        "    \n",
        "    c = 0\n",
        "    k = 1\n",
        "\n",
        "    while(abs(function((a + b)/2)) >= 0.0001):\n",
        "        c = (a + b)/2\n",
        "\n",
        "        if function(c) == 0.0:\n",
        "            print(\"Iteracao: \"+str(k))\n",
        "            print(\"Intervalo: [\"+str(a)+\", \"+str(b)+\"], valor do x médio: \"+str(c))\n",
        "            break\n",
        "\n",
        " \n",
        "        if (function(a)*function(c) < 0):\n",
        "            b = c\n",
        "            print(\"Iteracao: \"+str(k))\n",
        "            print(\"Intervalo: [\"+str(a)+\", \"+str(b)+\"], valor do x médio: \"+str(c))\n",
        "        else:\n",
        "            a = c\n",
        "            print(\"Iteracao: \"+str(k))\n",
        "            print(\"Intervalo: [\"+str(a)+\", \"+str(b)+\"], valor do x médio: \"+str(c))\n",
        "        k += 1"
      ],
      "execution_count": null,
      "outputs": []
    },
    {
      "cell_type": "code",
      "metadata": {
        "colab": {
          "base_uri": "https://localhost:8080/"
        },
        "id": "uBp0mEEIIaPh",
        "outputId": "86baa819-8c6f-4b29-f6e0-0cc506c10ba0"
      },
      "source": [
        "bissection(52, 55) "
      ],
      "execution_count": null,
      "outputs": [
        {
          "output_type": "stream",
          "text": [
            "Iteracao: 1\n",
            "Intervalo: [53.5, 55], valor do x médio: 53.5\n",
            "Iteracao: 2\n",
            "Intervalo: [53.5, 54.25], valor do x médio: 54.25\n",
            "Iteracao: 3\n",
            "Intervalo: [53.5, 53.875], valor do x médio: 53.875\n",
            "Iteracao: 4\n",
            "Intervalo: [53.5, 53.6875], valor do x médio: 53.6875\n",
            "Iteracao: 5\n",
            "Intervalo: [53.59375, 53.6875], valor do x médio: 53.59375\n",
            "Iteracao: 6\n",
            "Intervalo: [53.640625, 53.6875], valor do x médio: 53.640625\n",
            "Iteracao: 7\n",
            "Intervalo: [53.6640625, 53.6875], valor do x médio: 53.6640625\n",
            "Iteracao: 8\n",
            "Intervalo: [53.6640625, 53.67578125], valor do x médio: 53.67578125\n"
          ],
          "name": "stdout"
        }
      ]
    },
    {
      "cell_type": "markdown",
      "metadata": {
        "id": "umZrcLQnKX0q"
      },
      "source": [
        "Iteracao: 2\n",
        "\n",
        "\n",
        "Intervalo: [53.5, 54.25], valor do x médio: 54.25\n",
        "\n",
        "\n",
        "Iteracao: 3\n",
        "\n",
        "\n",
        "Intervalo: [53.5, 53.875], valor do x médio: 53.875\n",
        "\n",
        "\n",
        "Iteracao: 4\n",
        "\n",
        "\n",
        "Intervalo: [53.5, 53.6875], valor do x médio: 53.6875"
      ]
    }
  ]
}