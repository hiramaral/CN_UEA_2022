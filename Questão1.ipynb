{
  "nbformat": 4,
  "nbformat_minor": 0,
  "metadata": {
    "colab": {
      "name": "Questão1.ipynb",
      "provenance": [],
      "collapsed_sections": [],
      "include_colab_link": true
    },
    "kernelspec": {
      "name": "python3",
      "display_name": "Python 3"
    },
    "language_info": {
      "name": "python"
    }
  },
  "cells": [
    {
      "cell_type": "markdown",
      "metadata": {
        "id": "view-in-github",
        "colab_type": "text"
      },
      "source": [
        "<a href=\"https://colab.research.google.com/github/hiramaral/CN_UEA_2022/blob/main/Quest%C3%A3o1.ipynb\" target=\"_parent\"><img src=\"https://colab.research.google.com/assets/colab-badge.svg\" alt=\"Open In Colab\"/></a>"
      ]
    },
    {
      "cell_type": "markdown",
      "metadata": {
        "id": "jDoKktHFMOQk"
      },
      "source": [
        "# Questão 1"
      ]
    },
    {
      "cell_type": "code",
      "metadata": {
        "colab": {
          "base_uri": "https://localhost:8080/"
        },
        "id": "ncEMowlFMNyW",
        "outputId": "a6a1559d-d002-4387-a11a-08d717584a5e"
      },
      "source": [
        "def function(x):\n",
        "    # x³ - 9x + 3\n",
        "    return (x**3) - (9*x) + 3;\n",
        "\n",
        "\n",
        "def bissection(a, b):\n",
        "    if function(a)*function(b) >= 0:\n",
        "        print(\"Intervalo Inválido!\")\n",
        "        return\n",
        "    \n",
        "    c = 0\n",
        "\n",
        "    # 0.001 é a tolerância\n",
        "    while(abs(function((a + b)/2)) >= 0.001):\n",
        "        # acha o ponto médio\n",
        "        c = (a + b)/2\n",
        "\n",
        "        # verifica se o resultado da função é 0, e então quebra o laço\n",
        "        if function(c) == 0.0:\n",
        "            break\n",
        "\n",
        "        # verifica se o produto das funções nos intervalos é negativo, indicando \n",
        "        # que há uma raiz\n",
        "        if (function(a)*function(c) < 0):\n",
        "            b = c\n",
        "        else:\n",
        "            a = c\n",
        "    # imprime a raiz aproximada da função\n",
        "    print(\"A raiz da Função no intervalo [a, b] é: %.9f\"%c)\n",
        "\n",
        "\n",
        "# a e b são os intervalos \n",
        "a = 0\n",
        "b = 1\n",
        "\n",
        "bissection(a, b)"
      ],
      "execution_count": null,
      "outputs": [
        {
          "output_type": "stream",
          "text": [
            "A raiz da Função no intervalo [a, b] é: 0.337402344\n"
          ],
          "name": "stdout"
        }
      ]
    },
    {
      "cell_type": "code",
      "metadata": {
        "colab": {
          "base_uri": "https://localhost:8080/",
          "height": 248
        },
        "id": "DdwJdNVzMWc0",
        "outputId": "f4b65c5e-1448-42cc-fb53-63b316bde727"
      },
      "source": [
        "import matplotlib.pyplot as plt\n",
        "import numpy as np\n",
        "\n",
        "\n",
        "def function(x):\n",
        "    return (x*x*x) - 9*x + 3\n",
        "\n",
        "\n",
        "a = 0\n",
        "b = 1\n",
        "\n",
        "x = np.linspace(a, b, 40)\n",
        "y = function(x)\n",
        "\n",
        "ax = plt.gca()\n",
        "ax.spines['top'].set_color('none')\n",
        "ax.spines['bottom'].set_position('zero')\n",
        "ax.spines['left'].set_position('zero')\n",
        "ax.spines['right'].set_color('none')\n",
        "\n",
        "plt.plot(x, y)\n",
        "plt.plot(x, y)\n",
        "plt.show()"
      ],
      "execution_count": null,
      "outputs": [
        {
          "output_type": "display_data",
          "data": {
            "image/png": "[encoded data removed]",
            "text/plain": [
              "<Figure size 432x288 with 1 Axes>"
            ]
          },
          "metadata": {
            "tags": [],
            "needs_background": "light"
          }
        }
      ]
    },
    {
      "cell_type": "markdown",
      "metadata": {
        "id": "DbkVPStLMBc-"
      },
      "source": [
        "# Questão 2"
      ]
    },
    {
      "cell_type": "code",
      "metadata": {
        "id": "HL5O_Ns8L6PD"
      },
      "source": [
        "import math\n",
        "\n",
        "\n",
        "def function(x):\n",
        "    return (9.8*x/13)*(1 - math.e**(-13*6/x)) - 31\n",
        "\n",
        "\n",
        "def bissection(a, b):\n",
        "    if function(a)*function(b) >= 0:\n",
        "        print(\"Intervalo Inválido!\")\n",
        "        return\n",
        "    \n",
        "    c = 0\n",
        "    k = 1\n",
        "\n",
        "    while(abs(function((a + b)/2)) >= 0.0001):\n",
        "        c = (a + b)/2\n",
        "\n",
        "        if function(c) == 0.0:\n",
        "            print(\"Iteracao: \"+str(k))\n",
        "            print(\"Intervalo: [\"+str(a)+\", \"+str(b)+\"], valor do x médio: \"+str(c))\n",
        "            break\n",
        "\n",
        " \n",
        "        if (function(a)*function(c) < 0):\n",
        "            print(\"Iteracao: \"+str(k))\n",
        "            print(\"Intervalo: [\"+str(a)+\", \"+str(b)+\"], valor do x médio: \"+str(c))\n",
        "            b = c\n",
        "        else:\n",
        "            print(\"Iteracao: \"+str(k))\n",
        "            print(\"Intervalo: [\"+str(a)+\", \"+str(b)+\"], valor do x médio: \"+str(c))\n",
        "            a = c\n",
        "        k += 1"
      ],
      "execution_count": null,
      "outputs": []
    },
    {
      "cell_type": "code",
      "metadata": {
        "colab": {
          "base_uri": "https://localhost:8080/"
        },
        "id": "h-Yh3wmwMDui",
        "outputId": "aa2911dd-7ece-476a-9fff-70bb0798bbab"
      },
      "source": [
        "bissection(52, 55) "
      ],
      "execution_count": null,
      "outputs": [
        {
          "output_type": "stream",
          "text": [
            "Iteracao: 1\n",
            "Intervalo: [52, 55], valor do x médio: 53.5\n",
            "Iteracao: 2\n",
            "Intervalo: [53.5, 55], valor do x médio: 54.25\n",
            "Iteracao: 3\n",
            "Intervalo: [53.5, 54.25], valor do x médio: 53.875\n",
            "Iteracao: 4\n",
            "Intervalo: [53.5, 53.875], valor do x médio: 53.6875\n",
            "Iteracao: 5\n",
            "Intervalo: [53.5, 53.6875], valor do x médio: 53.59375\n",
            "Iteracao: 6\n",
            "Intervalo: [53.59375, 53.6875], valor do x médio: 53.640625\n",
            "Iteracao: 7\n",
            "Intervalo: [53.640625, 53.6875], valor do x médio: 53.6640625\n",
            "Iteracao: 8\n",
            "Intervalo: [53.6640625, 53.6875], valor do x médio: 53.67578125\n"
          ],
          "name": "stdout"
        }
      ]
    },
    {
      "cell_type": "markdown",
      "metadata": {
        "id": "48xHPuMeMJPW"
      },
      "source": [
        "Iteracao: 2\n",
        "\n",
        "\n",
        "Intervalo: [53.5, 55], valor do x médio: 54.25\n",
        "\n",
        "\n",
        "Iteracao: 3\n",
        "\n",
        "\n",
        "Intervalo: [53.5, 54.25], valor do x médio: 53.875\n",
        "\n",
        "\n",
        "Iteracao: 4\n",
        "\n",
        "\n",
        "Intervalo: [53.5, 53.875], valor do x médio: 53.6875"
      ]
    },
    {
      "cell_type": "markdown",
      "metadata": {
        "id": "Nz1YMHHmL3SY"
      },
      "source": [
        "# Questão 3"
      ]
    },
    {
      "cell_type": "code",
      "metadata": {
        "colab": {
          "base_uri": "https://localhost:8080/"
        },
        "id": "q5DOIYNyLE3b",
        "outputId": "3831b6e3-7800-440a-9bde-d648055b7003"
      },
      "source": [
        "import numpy as np\n",
        "def f(x):\n",
        "  return 31 - (9.8*x/13)*(1. -np.exp(-6.0*(13.0/x)))\n",
        " \n",
        "def df(x):\n",
        "  return np.exp(-78.0/x)*(9.8/13.0 + 58.8/x) - 9.8/13.0\n",
        " \n",
        "def newton(x0, Erro, itMax): \n",
        "  it = 0\n",
        "  Er = 1\n",
        "  x = x0\n",
        "  while(Er >= Erro and it < itMax):\n",
        "    xold = x\n",
        "    x = x - f(x)/df(x)\n",
        "    Er = np.abs((x - xold)/x)\n",
        "    it = it + 1\n",
        "  return (x, Er, it)\n",
        "x0 = 54\n",
        "Erro = 10**-4\n",
        "itMax = 6\n",
        " \n",
        "res = newton(x0, Erro, itMax)\n",
        " \n",
        "print(\"O valor da raiz é:\", res[0])\n",
        "print(\"O valor do erro relativo é:\", res[1])\n",
        "print(\"O número de iterações é:\", res[2])"
      ],
      "execution_count": null,
      "outputs": [
        {
          "output_type": "stream",
          "text": [
            "O valor da raiz é: 53.670082287970615\n",
            "O valor do erro relativo é: 2.189532833766564e-05\n",
            "O número de iterações é: 2\n"
          ],
          "name": "stdout"
        }
      ]
    },
    {
      "cell_type": "markdown",
      "metadata": {
        "id": "x-XqPDtmLWGQ"
      },
      "source": [
        "O valor da raiz é: 53.670082287970615\n",
        "\n",
        "\n",
        "O valor do erro relativo é: 2.189532833766564e-05\n",
        "\n",
        "\n",
        "O numero de iteracoes é: 2"
      ]
    }
  ]
}